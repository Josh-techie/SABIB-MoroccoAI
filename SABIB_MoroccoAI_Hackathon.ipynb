{
  "nbformat": 4,
  "nbformat_minor": 0,
  "metadata": {
    "colab": {
      "provenance": [],
      "authorship_tag": "ABX9TyOShkdzfnfFrtKOqhPUBfVU",
      "include_colab_link": true
    },
    "kernelspec": {
      "name": "python3",
      "display_name": "Python 3"
    },
    "language_info": {
      "name": "python"
    }
  },
  "cells": [
    {
      "cell_type": "markdown",
      "metadata": {
        "id": "view-in-github",
        "colab_type": "text"
      },
      "source": [
        "<a href=\"https://colab.research.google.com/github/Josh-techie/SABIB-MoroccoAI/blob/master/SABIB_MoroccoAI_Hackathon.ipynb\" target=\"_parent\"><img src=\"https://colab.research.google.com/assets/colab-badge.svg\" alt=\"Open In Colab\"/></a>"
      ]
    },
    {
      "cell_type": "markdown",
      "source": [
        "We're gonna generate the dataset (sythetic as we couln't find a dataset that meets our needs)"
      ],
      "metadata": {
        "id": "WhPhlgS34zhG"
      }
    },
    {
      "cell_type": "code",
      "execution_count": 8,
      "metadata": {
        "colab": {
          "base_uri": "https://localhost:8080/"
        },
        "id": "opIrCk-W0B6G",
        "outputId": "75fbfacd-4a43-426d-907f-8d651d5778bd"
      },
      "outputs": [
        {
          "output_type": "stream",
          "name": "stdout",
          "text": [
            "Data generation complete. Data saved to 'farm_water_consumption_data_souss_massa.csv'.\n"
          ]
        }
      ],
      "source": [
        "import pandas as pd\n",
        "import numpy as np\n",
        "import random\n",
        "from datetime import datetime, timedelta\n",
        "\n",
        "# Set the random seed for reproducibility\n",
        "np.random.seed(42)\n",
        "\n",
        "# Define the number of unique residences\n",
        "num_residences = 1000\n",
        "\n",
        "# Define the number of data points per residence (approximately one year of data)\n",
        "data_points_per_residence = 365\n",
        "\n",
        "# Generate residence names inspired by local language and culture\n",
        "base_names = [\n",
        "    \"Agadir Oasis\", \"Terre d'Argan\", \"Les Jardins d'Agadir\", \"Soleil de Souss\", \"Ferme Amazigh\",\n",
        "    \"Valley of Olives\", \"Citrus Haven\", \"Heritage Harvest Farm\", \"Eco Agadir Farm\", \"Bounty of the Atlas\",\n",
        "    \"Kasbah Farmstead\", \"Domaine du Souk\", \"Ranch des Étoiles\", \"Agadir des Saveurs\", \"Champs de la Paix\"\n",
        "]\n",
        "residence_names = [random.choice(base_names) + f\" {i+1}\" for i in range(num_residences)]\n",
        "\n",
        "# Initialize a list to hold all data\n",
        "all_data = []\n",
        "\n",
        "# Generate data for each residence\n",
        "for residence in residence_names:\n",
        "    # Generate timestamps for one year starting from today\n",
        "    end_date = datetime.now()\n",
        "    start_date = end_date - timedelta(days=364)\n",
        "    timestamps = [start_date + timedelta(days=i) for i in range(data_points_per_residence)]\n",
        "\n",
        "    # Define locations in the Souss-Massa region\n",
        "    locations = np.random.choice(['Chtouka Ait Baha', 'Taliouine', 'Taroudant', 'Agropole Agadir'], data_points_per_residence)\n",
        "\n",
        "    # Generate flow rate data (L/min)\n",
        "    flow_rates = np.random.uniform(1, 10, data_points_per_residence)\n",
        "\n",
        "    # Generate pressure data (Bar)\n",
        "    pressures = np.random.uniform(2, 4, data_points_per_residence)  # Typical range for water pressure in bars\n",
        "\n",
        "    # Generate temperature data (°C) adapted to the Moroccan climate\n",
        "    temperatures = np.random.uniform(15, 40, data_points_per_residence)\n",
        "\n",
        "    # Generate type of residence data (focused on farmers)\n",
        "    residence_types = [\"Farm\"] * data_points_per_residence\n",
        "\n",
        "    # Generate surface data (hectares)\n",
        "    surfaces = np.random.uniform(1, 100, data_points_per_residence)\n",
        "\n",
        "    # Generate precipitation data (mm) adapted to the Souss-Massa region\n",
        "    precipitations = np.random.uniform(0, 20, data_points_per_residence)\n",
        "\n",
        "    # Generate weather conditions data\n",
        "    weather_conditions = np.random.choice(['Sunny', 'Cloudy', 'Raining'], data_points_per_residence, p=[0.6, 0.3, 0.1])\n",
        "\n",
        "    # Generate device status data\n",
        "    device_statuses = ['Calibrating'] * 3 + ['Operational'] * (data_points_per_residence - 3)\n",
        "    for i in range(3, data_points_per_residence):\n",
        "        if random.random() < 0.05:  # 5% chance of being in maintenance\n",
        "            device_statuses[i] = 'Maintenance'\n",
        "\n",
        "    # Create a DataFrame for the current residence\n",
        "    residence_data = pd.DataFrame({\n",
        "        'Timestamp': timestamps,\n",
        "        'Residence Name': [residence] * data_points_per_residence,\n",
        "        'Location': locations,\n",
        "        'Flow Rate (L/min)': flow_rates,\n",
        "        'Pressure (Bar)': pressures,\n",
        "        'Temperature (°C)': temperatures,\n",
        "        'Type of Residence': residence_types,\n",
        "        'Surface (hectares)': surfaces,\n",
        "        'Precipitation (mm)': precipitations,\n",
        "        'Weather Conditions': weather_conditions,\n",
        "        'Device Status': device_statuses\n",
        "    })\n",
        "\n",
        "    # Append to the list of all data\n",
        "    all_data.append(residence_data)\n",
        "\n",
        "# Concatenate all data into a single DataFrame\n",
        "final_data = pd.concat(all_data, ignore_index=True)\n",
        "\n",
        "# Save the DataFrame to a CSV file\n",
        "final_data.to_csv('farm_water_consumption_data_souss_massa.csv', index=False)\n",
        "\n",
        "print(\"Data generation complete. Data saved to 'farm_water_consumption_data_souss_massa.csv'.\")"
      ]
    },
    {
      "cell_type": "markdown",
      "source": [
        "We generated 365 000 entry for the model to be trained on 1000 famr's data for 1 year long of duration"
      ],
      "metadata": {
        "id": "wfZ4qsVs5_FI"
      }
    },
    {
      "cell_type": "code",
      "source": [],
      "metadata": {
        "id": "F_QI3_ga6E2b"
      },
      "execution_count": null,
      "outputs": []
    }
  ]
}